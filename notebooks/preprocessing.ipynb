{
 "cells": [
  {
   "cell_type": "code",
   "execution_count": 1,
   "metadata": {
    "collapsed": true
   },
   "outputs": [
    {
     "name": "stderr",
     "output_type": "stream",
     "text": [
      "[nltk_data] Downloading package punkt to /home/nixwill/nltk_data...\n",
      "[nltk_data]   Package punkt is already up-to-date!\n",
      "[nltk_data] Downloading package stopwords to\n",
      "[nltk_data]     /home/nixwill/nltk_data...\n",
      "[nltk_data]   Package stopwords is already up-to-date!\n"
     ]
    },
    {
     "data": {
      "text/plain": "True"
     },
     "execution_count": 1,
     "metadata": {},
     "output_type": "execute_result"
    }
   ],
   "source": [
    "import pandas as pd\n",
    "import matplotlib.pyplot as plt\n",
    "import numpy as np\n",
    "import nltk\n",
    "\n",
    "from scipy.stats import zscore\n",
    "from scipy.sparse import hstack, save_npz\n",
    "from nltk.tokenize import wordpunct_tokenize\n",
    "from nltk.corpus import stopwords\n",
    "from nltk.stem.porter import PorterStemmer\n",
    "from sklearn.model_selection import train_test_split\n",
    "from sklearn.preprocessing import PolynomialFeatures, MinMaxScaler, OneHotEncoder, OrdinalEncoder\n",
    "from sklearn.feature_extraction.text import TfidfVectorizer\n",
    "\n",
    "nltk.download('punkt')\n",
    "nltk.download('stopwords')"
   ]
  },
  {
   "cell_type": "code",
   "execution_count": 2,
   "outputs": [
    {
     "data": {
      "text/plain": "         country                                        description  points  \\\n0          Italy  Aromas include tropical fruit, broom, brimston...      87   \n1       Portugal  This is ripe and fruity, a wine that is smooth...      87   \n2             US  Tart and snappy, the flavors of lime flesh and...      87   \n3             US  Pineapple rind, lemon pith and orange blossom ...      87   \n4             US  Much like the regular bottling from 2012, this...      87   \n...          ...                                                ...     ...   \n129966   Germany  Notes of honeysuckle and cantaloupe sweeten th...      90   \n129967        US  Citation is given as much as a decade of bottl...      90   \n129968    France  Well-drained gravel soil gives this wine its c...      90   \n129969    France  A dry style of Pinot Gris, this is crisp with ...      90   \n129970    France  Big, rich and off-dry, this is powered by inte...      90   \n\n        price         taster_name  \n0         NaN       Kerin O’Keefe  \n1        15.0          Roger Voss  \n2        14.0        Paul Gregutt  \n3        13.0  Alexander Peartree  \n4        65.0        Paul Gregutt  \n...       ...                 ...  \n129966   28.0  Anna Lee C. Iijima  \n129967   75.0        Paul Gregutt  \n129968   30.0          Roger Voss  \n129969   32.0          Roger Voss  \n129970   21.0          Roger Voss  \n\n[129971 rows x 5 columns]",
      "text/html": "<div>\n<style scoped>\n    .dataframe tbody tr th:only-of-type {\n        vertical-align: middle;\n    }\n\n    .dataframe tbody tr th {\n        vertical-align: top;\n    }\n\n    .dataframe thead th {\n        text-align: right;\n    }\n</style>\n<table border=\"1\" class=\"dataframe\">\n  <thead>\n    <tr style=\"text-align: right;\">\n      <th></th>\n      <th>country</th>\n      <th>description</th>\n      <th>points</th>\n      <th>price</th>\n      <th>taster_name</th>\n    </tr>\n  </thead>\n  <tbody>\n    <tr>\n      <th>0</th>\n      <td>Italy</td>\n      <td>Aromas include tropical fruit, broom, brimston...</td>\n      <td>87</td>\n      <td>NaN</td>\n      <td>Kerin O’Keefe</td>\n    </tr>\n    <tr>\n      <th>1</th>\n      <td>Portugal</td>\n      <td>This is ripe and fruity, a wine that is smooth...</td>\n      <td>87</td>\n      <td>15.0</td>\n      <td>Roger Voss</td>\n    </tr>\n    <tr>\n      <th>2</th>\n      <td>US</td>\n      <td>Tart and snappy, the flavors of lime flesh and...</td>\n      <td>87</td>\n      <td>14.0</td>\n      <td>Paul Gregutt</td>\n    </tr>\n    <tr>\n      <th>3</th>\n      <td>US</td>\n      <td>Pineapple rind, lemon pith and orange blossom ...</td>\n      <td>87</td>\n      <td>13.0</td>\n      <td>Alexander Peartree</td>\n    </tr>\n    <tr>\n      <th>4</th>\n      <td>US</td>\n      <td>Much like the regular bottling from 2012, this...</td>\n      <td>87</td>\n      <td>65.0</td>\n      <td>Paul Gregutt</td>\n    </tr>\n    <tr>\n      <th>...</th>\n      <td>...</td>\n      <td>...</td>\n      <td>...</td>\n      <td>...</td>\n      <td>...</td>\n    </tr>\n    <tr>\n      <th>129966</th>\n      <td>Germany</td>\n      <td>Notes of honeysuckle and cantaloupe sweeten th...</td>\n      <td>90</td>\n      <td>28.0</td>\n      <td>Anna Lee C. Iijima</td>\n    </tr>\n    <tr>\n      <th>129967</th>\n      <td>US</td>\n      <td>Citation is given as much as a decade of bottl...</td>\n      <td>90</td>\n      <td>75.0</td>\n      <td>Paul Gregutt</td>\n    </tr>\n    <tr>\n      <th>129968</th>\n      <td>France</td>\n      <td>Well-drained gravel soil gives this wine its c...</td>\n      <td>90</td>\n      <td>30.0</td>\n      <td>Roger Voss</td>\n    </tr>\n    <tr>\n      <th>129969</th>\n      <td>France</td>\n      <td>A dry style of Pinot Gris, this is crisp with ...</td>\n      <td>90</td>\n      <td>32.0</td>\n      <td>Roger Voss</td>\n    </tr>\n    <tr>\n      <th>129970</th>\n      <td>France</td>\n      <td>Big, rich and off-dry, this is powered by inte...</td>\n      <td>90</td>\n      <td>21.0</td>\n      <td>Roger Voss</td>\n    </tr>\n  </tbody>\n</table>\n<p>129971 rows × 5 columns</p>\n</div>"
     },
     "execution_count": 2,
     "metadata": {},
     "output_type": "execute_result"
    }
   ],
   "source": [
    "df = pd.read_csv(\n",
    "    '../data/raw/winemag-data-130k-v2.csv',\n",
    "    usecols=(\n",
    "        'points',\n",
    "        'price',\n",
    "        'country',\n",
    "        # 'province',\n",
    "        # 'variety',\n",
    "        'taster_name',\n",
    "        'description',\n",
    "    ),\n",
    ")\n",
    "df"
   ],
   "metadata": {
    "collapsed": false,
    "pycharm": {
     "name": "#%%\n"
    }
   }
  },
  {
   "cell_type": "code",
   "execution_count": 3,
   "outputs": [
    {
     "data": {
      "text/plain": "(96420, 5)"
     },
     "execution_count": 3,
     "metadata": {},
     "output_type": "execute_result"
    }
   ],
   "source": [
    "df = df.dropna()\n",
    "df.shape"
   ],
   "metadata": {
    "collapsed": false,
    "pycharm": {
     "name": "#%%\n"
    }
   }
  },
  {
   "cell_type": "code",
   "execution_count": 4,
   "outputs": [
    {
     "data": {
      "text/plain": "(88261, 5)"
     },
     "execution_count": 4,
     "metadata": {},
     "output_type": "execute_result"
    }
   ],
   "source": [
    "df = df.drop_duplicates()\n",
    "df.shape"
   ],
   "metadata": {
    "collapsed": false,
    "pycharm": {
     "name": "#%%\n"
    }
   }
  },
  {
   "cell_type": "code",
   "execution_count": 5,
   "outputs": [
    {
     "data": {
      "text/plain": "<Figure size 432x288 with 1 Axes>",
      "image/png": "[encoded data removed]"
     },
     "metadata": {
      "needs_background": "light"
     },
     "output_type": "display_data"
    }
   ],
   "source": [
    "df.boxplot(column='price')\n",
    "plt.show()"
   ],
   "metadata": {
    "collapsed": false,
    "pycharm": {
     "name": "#%%\n"
    }
   }
  },
  {
   "cell_type": "code",
   "execution_count": 6,
   "outputs": [
    {
     "data": {
      "text/plain": "(87416, 5)"
     },
     "execution_count": 6,
     "metadata": {},
     "output_type": "execute_result"
    }
   ],
   "source": [
    "df = df[np.abs(zscore(df['price'])) < 3]\n",
    "df.shape"
   ],
   "metadata": {
    "collapsed": false,
    "pycharm": {
     "name": "#%%\n"
    }
   }
  },
  {
   "cell_type": "code",
   "execution_count": 7,
   "outputs": [
    {
     "data": {
      "text/plain": "<Figure size 432x288 with 1 Axes>",
      "image/png": "[encoded data removed]"
     },
     "metadata": {
      "needs_background": "light"
     },
     "output_type": "display_data"
    }
   ],
   "source": [
    "df.boxplot(column='price')\n",
    "plt.show()"
   ],
   "metadata": {
    "collapsed": false,
    "pycharm": {
     "name": "#%%\n"
    }
   }
  },
  {
   "cell_type": "code",
   "execution_count": 8,
   "outputs": [],
   "source": [
    "def points2group(row):\n",
    "    \"\"\"\n",
    "    Convert points to it's group according to WineMag\n",
    "    \"\"\"\n",
    "    if 80 <= row['points'] <= 82:\n",
    "        return '80-82'\n",
    "    if 83 <= row['points'] <= 86:\n",
    "        return '83-86'\n",
    "    if 87 <= row['points'] <= 89:\n",
    "        return '87-89'\n",
    "    if 90 <= row['points'] <= 93:\n",
    "        return '90-93'\n",
    "    if 94 <= row['points'] <= 97:\n",
    "        return '94-97'\n",
    "    if 98 <= row['points'] <= 100:\n",
    "        return '98-100'\n",
    "    return 'UNKNOWN'\n",
    "\n",
    "df['points_group'] = df.apply(points2group, axis=1)"
   ],
   "metadata": {
    "collapsed": false,
    "pycharm": {
     "name": "#%%\n"
    }
   }
  },
  {
   "cell_type": "code",
   "execution_count": 9,
   "outputs": [
    {
     "name": "stdout",
     "output_type": "stream",
     "text": [
      "Train size: (69932, 6)\n",
      "Test size: (17484, 6)\n"
     ]
    }
   ],
   "source": [
    "train_df, test_df = train_test_split(df, random_state=42, test_size=0.2)\n",
    "print('Train size:', train_df.shape)\n",
    "print('Test size:', test_df.shape)"
   ],
   "metadata": {
    "collapsed": false,
    "pycharm": {
     "name": "#%%\n"
    }
   }
  },
  {
   "cell_type": "code",
   "execution_count": 10,
   "outputs": [
    {
     "name": "stdout",
     "output_type": "stream",
     "text": [
      "Before:\n",
      "        points  price\n",
      "66990       85   10.0\n",
      "116827      94   38.0\n",
      "15192       95   82.0\n",
      "75988       89   18.0\n",
      "65534       84   15.0\n",
      "...        ...    ...\n",
      "8585        89   30.0\n",
      "79294       88   23.0\n",
      "113114      88   50.0\n",
      "1140        84   25.0\n",
      "21840       80   18.0\n",
      "\n",
      "[69932 rows x 2 columns]\n",
      "\n",
      "After:\n",
      "[[  85.   10. 7225.  850.  100.]\n",
      " [  94.   38. 8836. 3572. 1444.]\n",
      " [  95.   82. 9025. 7790. 6724.]\n",
      " ...\n",
      " [  88.   50. 7744. 4400. 2500.]\n",
      " [  84.   25. 7056. 2100.  625.]\n",
      " [  80.   18. 6400. 1440.  324.]]\n"
     ]
    }
   ],
   "source": [
    "# vector [ points, price, points^2, price^2, points * price ]\n",
    "poly = PolynomialFeatures(2, include_bias=False)\n",
    "poly_train = poly.fit_transform(train_df[['points', 'price']])\n",
    "poly_test = poly.transform(test_df[['points', 'price']])\n",
    "\n",
    "print('Before:')\n",
    "print(train_df[['points', 'price']])\n",
    "print('\\nAfter:')\n",
    "print(poly_train)"
   ],
   "metadata": {
    "collapsed": false,
    "pycharm": {
     "name": "#%%\n"
    }
   }
  },
  {
   "cell_type": "code",
   "execution_count": 11,
   "outputs": [
    {
     "name": "stdout",
     "output_type": "stream",
     "text": [
      "Before:\n",
      "[[  85.   10. 7225.  850.  100.]\n",
      " [  94.   38. 8836. 3572. 1444.]\n",
      " [  95.   82. 9025. 7790. 6724.]\n",
      " ...\n",
      " [  88.   50. 7744. 4400. 2500.]\n",
      " [  84.   25. 7056. 2100.  625.]\n",
      " [  80.   18. 6400. 1440.  324.]]\n",
      "\n",
      "After:\n",
      "[[0.25       0.03658537 0.22916667 0.03339304 0.00297788]\n",
      " [0.7        0.20731707 0.67666667 0.20752303 0.05062394]\n",
      " [0.75       0.47560976 0.72916667 0.47735415 0.23780488]\n",
      " ...\n",
      " [0.4        0.2804878  0.37333333 0.2604913  0.08806012]\n",
      " [0.2        0.12804878 0.18222222 0.11335722 0.02158962]\n",
      " [0.         0.08536585 0.         0.07113613 0.01091889]]\n"
     ]
    }
   ],
   "source": [
    "scaler = MinMaxScaler(feature_range=(0, 1))\n",
    "scaled_train = scaler.fit_transform(poly_train)\n",
    "scaled_test = scaler.transform(poly_test)\n",
    "\n",
    "print('Before:')\n",
    "print(poly_train)\n",
    "print('\\nAfter:')\n",
    "print(scaled_train)"
   ],
   "metadata": {
    "collapsed": false,
    "pycharm": {
     "name": "#%%\n"
    }
   }
  },
  {
   "cell_type": "code",
   "execution_count": 12,
   "outputs": [
    {
     "name": "stdout",
     "output_type": "stream",
     "text": [
      "Before:\n",
      "          country         taster_name\n",
      "66990   Argentina   Michael Schachner\n",
      "116827      Italy       Kerin O’Keefe\n",
      "15192          US       Matt Kettmann\n",
      "75988     Germany  Anna Lee C. Iijima\n",
      "65534          US  Anna Lee C. Iijima\n",
      "...           ...                 ...\n",
      "8585    Australia      Joe Czerwinski\n",
      "79294      France          Roger Voss\n",
      "113114    Germany      Joe Czerwinski\n",
      "1140           US  Anna Lee C. Iijima\n",
      "21840       Chile   Michael Schachner\n",
      "\n",
      "[69932 rows x 2 columns]\n",
      "\n",
      "After:\n",
      "[[1. 0. 0. ... 0. 0. 0.]\n",
      " [0. 0. 0. ... 0. 0. 0.]\n",
      " [0. 0. 0. ... 0. 0. 0.]\n",
      " ...\n",
      " [0. 0. 0. ... 0. 0. 0.]\n",
      " [0. 0. 0. ... 0. 0. 0.]\n",
      " [0. 0. 0. ... 0. 0. 0.]]\n",
      "(69932, 60)\n"
     ]
    }
   ],
   "source": [
    "enc = OneHotEncoder(handle_unknown='ignore')\n",
    "enc_train = enc.fit_transform(train_df[['country', 'taster_name']])\n",
    "enc_test = enc.transform(test_df[['country', 'taster_name']])\n",
    "\n",
    "print('Before:')\n",
    "print(train_df[['country', 'taster_name']])\n",
    "print('\\nAfter:')\n",
    "print(enc_train.toarray())\n",
    "print(enc_train.shape)"
   ],
   "metadata": {
    "collapsed": false,
    "pycharm": {
     "name": "#%%\n"
    }
   }
  },
  {
   "cell_type": "code",
   "execution_count": 13,
   "outputs": [
    {
     "name": "stdout",
     "output_type": "stream",
     "text": [
      "Before:\n",
      "       points_group\n",
      "66990         83-86\n",
      "116827        94-97\n",
      "15192         94-97\n",
      "75988         87-89\n",
      "65534         83-86\n",
      "...             ...\n",
      "8585          87-89\n",
      "79294         87-89\n",
      "113114        87-89\n",
      "1140          83-86\n",
      "21840         80-82\n",
      "\n",
      "[69932 rows x 1 columns]\n",
      "\n",
      "After:\n",
      "[[1.]\n",
      " [4.]\n",
      " [4.]\n",
      " ...\n",
      " [2.]\n",
      " [1.]\n",
      " [0.]]\n"
     ]
    }
   ],
   "source": [
    "ord_enc = OrdinalEncoder()\n",
    "points_group_train = ord_enc.fit_transform(train_df[['points_group']])\n",
    "points_group_test = ord_enc.transform(test_df[['points_group']])\n",
    "\n",
    "print('Before:')\n",
    "print(train_df[['points_group']])\n",
    "print('\\nAfter:')\n",
    "print(points_group_train)"
   ],
   "metadata": {
    "collapsed": false,
    "pycharm": {
     "name": "#%%\n"
    }
   }
  },
  {
   "cell_type": "code",
   "execution_count": 14,
   "outputs": [],
   "source": [
    "class PorterTokenizer:\n",
    "\n",
    "    def __init__(self):\n",
    "        self.stemmer = PorterStemmer()\n",
    "        self.stopwords = set(stopwords.words('english'))\n",
    "        self.stopwords.add(\"'\")\n",
    "\n",
    "    def __call__(self, doc):\n",
    "        return [self.stemmer.stem(token) for token in wordpunct_tokenize(doc) if token not in self.stopwords]"
   ],
   "metadata": {
    "collapsed": false,
    "pycharm": {
     "name": "#%%\n"
    }
   }
  },
  {
   "cell_type": "code",
   "execution_count": 15,
   "outputs": [
    {
     "data": {
      "text/plain": "(69932, 5797)"
     },
     "execution_count": 15,
     "metadata": {},
     "output_type": "execute_result"
    }
   ],
   "source": [
    "vectorizer_1g = TfidfVectorizer(\n",
    "    tokenizer=PorterTokenizer(),\n",
    "    ngram_range=(1, 1),\n",
    "    max_df=0.7,\n",
    "    min_df=7,\n",
    ")\n",
    "\n",
    "tf_idf_1g_train = vectorizer_1g.fit_transform(train_df['description'])\n",
    "tf_idf_1g_test = vectorizer_1g.transform(test_df['description'])\n",
    "\n",
    "tf_idf_1g_train.shape"
   ],
   "metadata": {
    "collapsed": false,
    "pycharm": {
     "name": "#%%\n"
    }
   }
  },
  {
   "cell_type": "code",
   "execution_count": 16,
   "outputs": [
    {
     "data": {
      "text/plain": "(69932, 42494)"
     },
     "execution_count": 16,
     "metadata": {},
     "output_type": "execute_result"
    }
   ],
   "source": [
    "vectorizer_2g = TfidfVectorizer(\n",
    "    tokenizer=PorterTokenizer(),\n",
    "    ngram_range=(1, 2),\n",
    "    max_df=0.7,\n",
    "    min_df=7,\n",
    ")\n",
    "\n",
    "tf_idf_2g_train = vectorizer_2g.fit_transform(train_df['description'])\n",
    "tf_idf_2g_test = vectorizer_2g.transform(test_df['description'])\n",
    "\n",
    "tf_idf_2g_train.shape"
   ],
   "metadata": {
    "collapsed": false,
    "pycharm": {
     "name": "#%%\n"
    }
   }
  },
  {
   "cell_type": "code",
   "execution_count": 17,
   "outputs": [
    {
     "data": {
      "text/plain": "(69932, 5863)"
     },
     "execution_count": 17,
     "metadata": {},
     "output_type": "execute_result"
    }
   ],
   "source": [
    "csr_train_1g = hstack(\n",
    "    (\n",
    "        points_group_train,\n",
    "        scaled_train,\n",
    "        enc_train,\n",
    "        tf_idf_1g_train,\n",
    "    ),\n",
    "    format='csr',\n",
    ")\n",
    "save_npz('../data/preprocessed/1-gram/train.npz', csr_train_1g)\n",
    "csr_train_1g.shape"
   ],
   "metadata": {
    "collapsed": false,
    "pycharm": {
     "name": "#%%\n"
    }
   }
  },
  {
   "cell_type": "code",
   "execution_count": 18,
   "outputs": [
    {
     "data": {
      "text/plain": "(17484, 5863)"
     },
     "execution_count": 18,
     "metadata": {},
     "output_type": "execute_result"
    }
   ],
   "source": [
    "csr_test_1g = hstack(\n",
    "    (\n",
    "        points_group_test,\n",
    "        scaled_test,\n",
    "        enc_test,\n",
    "        tf_idf_1g_test,\n",
    "    ),\n",
    "    format='csr',\n",
    ")\n",
    "save_npz('../data/preprocessed/1-gram/test.npz', csr_test_1g)\n",
    "csr_test_1g.shape"
   ],
   "metadata": {
    "collapsed": false,
    "pycharm": {
     "name": "#%%\n"
    }
   }
  },
  {
   "cell_type": "code",
   "execution_count": 19,
   "outputs": [
    {
     "data": {
      "text/plain": "(69932, 42560)"
     },
     "execution_count": 19,
     "metadata": {},
     "output_type": "execute_result"
    }
   ],
   "source": [
    "csr_train_2g = hstack(\n",
    "    (\n",
    "        points_group_train,\n",
    "        scaled_train,\n",
    "        enc_train,\n",
    "        tf_idf_2g_train,\n",
    "    ),\n",
    "    format='csr',\n",
    ")\n",
    "save_npz('../data/preprocessed/2-gram/train.npz', csr_train_2g)\n",
    "csr_train_2g.shape"
   ],
   "metadata": {
    "collapsed": false,
    "pycharm": {
     "name": "#%%\n"
    }
   }
  },
  {
   "cell_type": "code",
   "execution_count": 20,
   "outputs": [
    {
     "data": {
      "text/plain": "(17484, 42560)"
     },
     "execution_count": 20,
     "metadata": {},
     "output_type": "execute_result"
    }
   ],
   "source": [
    "csr_test_2g = hstack(\n",
    "    (\n",
    "        points_group_test,\n",
    "        scaled_test,\n",
    "        enc_test,\n",
    "        tf_idf_2g_test,\n",
    "    ),\n",
    "    format='csr',\n",
    ")\n",
    "save_npz('../data/preprocessed/2-gram/test.npz', csr_test_2g)\n",
    "csr_test_2g.shape\n"
   ],
   "metadata": {
    "collapsed": false,
    "pycharm": {
     "name": "#%%\n"
    }
   }
  }
 ],
 "metadata": {
  "kernelspec": {
   "display_name": "Python 3",
   "language": "python",
   "name": "python3"
  },
  "language_info": {
   "codemirror_mode": {
    "name": "ipython",
    "version": 2
   },
   "file_extension": ".py",
   "mimetype": "text/x-python",
   "name": "python",
   "nbconvert_exporter": "python",
   "pygments_lexer": "ipython2",
   "version": "2.7.6"
  }
 },
 "nbformat": 4,
 "nbformat_minor": 0
}