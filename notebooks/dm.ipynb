{
 "cells": [
  {
   "cell_type": "code",
   "execution_count": 1,
   "outputs": [],
   "source": [
    "import sys\n",
    "\n",
    "sys.path.append('..')\n",
    "\n",
    "%load_ext autoreload\n",
    "%autoreload 2"
   ],
   "metadata": {
    "collapsed": false,
    "pycharm": {
     "name": "#%%\n"
    }
   }
  },
  {
   "cell_type": "code",
   "execution_count": 2,
   "outputs": [
    {
     "name": "stderr",
     "output_type": "stream",
     "text": [
      "[nltk_data] Downloading package punkt to /home/nixwill/nltk_data...\n",
      "[nltk_data]   Package punkt is already up-to-date!\n",
      "[nltk_data] Downloading package stopwords to\n",
      "[nltk_data]     /home/nixwill/nltk_data...\n",
      "[nltk_data]   Package stopwords is already up-to-date!\n"
     ]
    }
   ],
   "source": [
    "import pandas as pd\n",
    "import pickle\n",
    "\n",
    "from datetime import datetime\n",
    "from joblib import dump\n",
    "from shutil import rmtree\n",
    "from sklearn.compose import make_column_transformer\n",
    "from sklearn.feature_extraction.text import TfidfVectorizer\n",
    "from sklearn.linear_model import SGDClassifier\n",
    "from sklearn.ensemble import RandomForestClassifier\n",
    "from sklearn.model_selection import GridSearchCV\n",
    "from sklearn.pipeline import Pipeline, make_pipeline\n",
    "from sklearn.preprocessing import MinMaxScaler, OneHotEncoder, PolynomialFeatures\n",
    "from tempfile import mkdtemp\n",
    "\n",
    "from src.helpers import PorterTokenizer"
   ],
   "metadata": {
    "collapsed": false,
    "pycharm": {
     "name": "#%%\n"
    }
   }
  },
  {
   "cell_type": "code",
   "execution_count": 3,
   "outputs": [
    {
     "data": {
      "text/plain": "         country                                        description  points  \\\n0      Argentina  Slightly gritty, nutty aromas indicate that th...      84   \n1       Portugal  Merlot and Syrah are added to Portuguese varie...      87   \n2         France  Ripe mirabelle fruit plays on the nose and lea...      92   \n3          Italy  This blend of 70% Sangiovese with Canaiolo, Co...      88   \n4          Italy  It opens with aromas of forest floor, porcini ...      88   \n...          ...                                                ...     ...   \n69907     France  Light and only gently structured, this is a cr...      87   \n69908    Germany  Veins of smoke and wax seep through fresh appl...      87   \n69909         US  A combination of American and Hungarian oak le...      88   \n69910     France  Based in the heart of the Haut-Médoc, this pro...      84   \n69911      Spain  This Syrah is big, rubbery and heavily charred...      91   \n\n       price         taster_name  points_group  \n0       18.0   Michael Schachner             1  \n1       12.0          Roger Voss             2  \n2       35.0    Anne Krebiehl MW             3  \n3       14.0       Kerin O’Keefe             2  \n4       28.0       Kerin O’Keefe             2  \n...      ...                 ...           ...  \n69907   18.0          Roger Voss             2  \n69908   18.0  Anna Lee C. Iijima             2  \n69909   16.0  Anna Lee C. Iijima             2  \n69910   20.0          Roger Voss             1  \n69911   30.0   Michael Schachner             3  \n\n[69912 rows x 6 columns]",
      "text/html": "<div>\n<style scoped>\n    .dataframe tbody tr th:only-of-type {\n        vertical-align: middle;\n    }\n\n    .dataframe tbody tr th {\n        vertical-align: top;\n    }\n\n    .dataframe thead th {\n        text-align: right;\n    }\n</style>\n<table border=\"1\" class=\"dataframe\">\n  <thead>\n    <tr style=\"text-align: right;\">\n      <th></th>\n      <th>country</th>\n      <th>description</th>\n      <th>points</th>\n      <th>price</th>\n      <th>taster_name</th>\n      <th>points_group</th>\n    </tr>\n  </thead>\n  <tbody>\n    <tr>\n      <th>0</th>\n      <td>Argentina</td>\n      <td>Slightly gritty, nutty aromas indicate that th...</td>\n      <td>84</td>\n      <td>18.0</td>\n      <td>Michael Schachner</td>\n      <td>1</td>\n    </tr>\n    <tr>\n      <th>1</th>\n      <td>Portugal</td>\n      <td>Merlot and Syrah are added to Portuguese varie...</td>\n      <td>87</td>\n      <td>12.0</td>\n      <td>Roger Voss</td>\n      <td>2</td>\n    </tr>\n    <tr>\n      <th>2</th>\n      <td>France</td>\n      <td>Ripe mirabelle fruit plays on the nose and lea...</td>\n      <td>92</td>\n      <td>35.0</td>\n      <td>Anne Krebiehl MW</td>\n      <td>3</td>\n    </tr>\n    <tr>\n      <th>3</th>\n      <td>Italy</td>\n      <td>This blend of 70% Sangiovese with Canaiolo, Co...</td>\n      <td>88</td>\n      <td>14.0</td>\n      <td>Kerin O’Keefe</td>\n      <td>2</td>\n    </tr>\n    <tr>\n      <th>4</th>\n      <td>Italy</td>\n      <td>It opens with aromas of forest floor, porcini ...</td>\n      <td>88</td>\n      <td>28.0</td>\n      <td>Kerin O’Keefe</td>\n      <td>2</td>\n    </tr>\n    <tr>\n      <th>...</th>\n      <td>...</td>\n      <td>...</td>\n      <td>...</td>\n      <td>...</td>\n      <td>...</td>\n      <td>...</td>\n    </tr>\n    <tr>\n      <th>69907</th>\n      <td>France</td>\n      <td>Light and only gently structured, this is a cr...</td>\n      <td>87</td>\n      <td>18.0</td>\n      <td>Roger Voss</td>\n      <td>2</td>\n    </tr>\n    <tr>\n      <th>69908</th>\n      <td>Germany</td>\n      <td>Veins of smoke and wax seep through fresh appl...</td>\n      <td>87</td>\n      <td>18.0</td>\n      <td>Anna Lee C. Iijima</td>\n      <td>2</td>\n    </tr>\n    <tr>\n      <th>69909</th>\n      <td>US</td>\n      <td>A combination of American and Hungarian oak le...</td>\n      <td>88</td>\n      <td>16.0</td>\n      <td>Anna Lee C. Iijima</td>\n      <td>2</td>\n    </tr>\n    <tr>\n      <th>69910</th>\n      <td>France</td>\n      <td>Based in the heart of the Haut-Médoc, this pro...</td>\n      <td>84</td>\n      <td>20.0</td>\n      <td>Roger Voss</td>\n      <td>1</td>\n    </tr>\n    <tr>\n      <th>69911</th>\n      <td>Spain</td>\n      <td>This Syrah is big, rubbery and heavily charred...</td>\n      <td>91</td>\n      <td>30.0</td>\n      <td>Michael Schachner</td>\n      <td>3</td>\n    </tr>\n  </tbody>\n</table>\n<p>69912 rows × 6 columns</p>\n</div>"
     },
     "execution_count": 3,
     "metadata": {},
     "output_type": "execute_result"
    }
   ],
   "source": [
    "train_df = pd.read_csv('../data/cleaned/train.csv')\n",
    "train_df"
   ],
   "metadata": {
    "collapsed": false,
    "pycharm": {
     "name": "#%%\n"
    }
   }
  },
  {
   "cell_type": "code",
   "execution_count": 4,
   "outputs": [],
   "source": [
    "X_train_df = train_df[['price', 'country', 'taster_name', 'description']]\n",
    "y_train_clf = train_df['points_group']\n",
    "y_train_reg = train_df['points']"
   ],
   "metadata": {
    "collapsed": false,
    "pycharm": {
     "name": "#%%\n"
    }
   }
  },
  {
   "cell_type": "code",
   "execution_count": 5,
   "outputs": [],
   "source": [
    "def make_custom_transformer():\n",
    "    return make_column_transformer(\n",
    "        (make_pipeline(\n",
    "            PolynomialFeatures(2, include_bias=False),\n",
    "            MinMaxScaler(feature_range=(0, 1)),\n",
    "        ), ['price']),\n",
    "        (OneHotEncoder(handle_unknown='ignore'), ['country', 'taster_name']),\n",
    "        (TfidfVectorizer(\n",
    "            tokenizer=PorterTokenizer(),\n",
    "            max_df=0.7,\n",
    "            min_df=7,\n",
    "            ngram_range=(1, 1),\n",
    "        ), 'description'),\n",
    "    )"
   ],
   "metadata": {
    "collapsed": false,
    "pycharm": {
     "name": "#%%\n"
    }
   }
  },
  {
   "cell_type": "code",
   "execution_count": null,
   "outputs": [],
   "source": [
    "cachedir = mkdtemp()\n",
    "pipe = Pipeline(\n",
    "    [\n",
    "        ('transformer', make_custom_transformer()),\n",
    "        ('estimator', SGDClassifier(random_state=42)),\n",
    "    ],\n",
    "    memory=cachedir,\n",
    ")"
   ],
   "metadata": {
    "collapsed": false,
    "pycharm": {
     "name": "#%%\n"
    }
   }
  },
  {
   "cell_type": "code",
   "execution_count": null,
   "outputs": [],
   "source": [
    "param_grid = dict(\n",
    "    transformer__tfidfvectorizer__max_df=[0.7],\n",
    "    transformer__tfidfvectorizer__min_df=[7, 0.01],\n",
    "    transformer__tfidfvectorizer__ngram_range=[(1, 1)],\n",
    "    estimator__loss=['log', 'modified_huber'],\n",
    "    estimator__penalty=['l2', 'l1', 'elasticnet'],\n",
    "    estimator__alpha=[0.0001, 0.001, 0.05],\n",
    "    estimator__class_weight=['balanced', None],\n",
    "    estimator__average=[True, False],\n",
    ")\n",
    "\n",
    "grid_search = GridSearchCV(\n",
    "    estimator=pipe,\n",
    "    param_grid=param_grid,\n",
    "    cv=4,\n",
    "    n_jobs=-1,\n",
    "    verbose=3,\n",
    "    scoring=['f1_weighted', 'balanced_accuracy', 'accuracy'],\n",
    "    refit='f1_weighted',\n",
    ")\n",
    "\n",
    "grid_search = grid_search.fit(X_train_df, y_train_clf)"
   ],
   "metadata": {
    "collapsed": false,
    "pycharm": {
     "name": "#%%\n"
    }
   }
  },
  {
   "cell_type": "code",
   "execution_count": null,
   "outputs": [],
   "source": [
    "dump(grid_search, f'../models/SGDC-{datetime.now().isoformat()}.joblib')\n",
    "rmtree(cachedir)"
   ],
   "metadata": {
    "collapsed": false,
    "pycharm": {
     "name": "#%%\n"
    }
   }
  }
 ],
 "metadata": {
  "kernelspec": {
   "display_name": "Python 3",
   "language": "python",
   "name": "python3"
  },
  "language_info": {
   "codemirror_mode": {
    "name": "ipython",
    "version": 2
   },
   "file_extension": ".py",
   "mimetype": "text/x-python",
   "name": "python",
   "nbconvert_exporter": "python",
   "pygments_lexer": "ipython2",
   "version": "2.7.6"
  }
 },
 "nbformat": 4,
 "nbformat_minor": 0
}