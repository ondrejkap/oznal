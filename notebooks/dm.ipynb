{
 "cells": [
  {
   "cell_type": "code",
   "execution_count": 1,
   "metadata": {
    "pycharm": {
     "name": "#%%\n"
    }
   },
   "outputs": [],
   "source": [
    "import sys\n",
    "from scipy.stats import loguniform\n",
    "\n",
    "sys.path.append('..')\n",
    "\n",
    "%load_ext autoreload\n",
    "%autoreload 2"
   ]
  },
  {
   "cell_type": "code",
   "execution_count": 2,
   "metadata": {
    "pycharm": {
     "name": "#%%\n"
    }
   },
   "outputs": [
    {
     "name": "stderr",
     "output_type": "stream",
     "text": [
      "[nltk_data] Downloading package punkt to /home/nixwill/nltk_data...\n",
      "[nltk_data]   Package punkt is already up-to-date!\n",
      "[nltk_data] Downloading package stopwords to\n",
      "[nltk_data]     /home/nixwill/nltk_data...\n",
      "[nltk_data]   Package stopwords is already up-to-date!\n"
     ]
    }
   ],
   "source": [
    "import pandas as pd\n",
    "import pickle\n",
    "import seaborn as sns\n",
    "\n",
    "from datetime import datetime\n",
    "from joblib import dump\n",
    "from shutil import rmtree\n",
    "from sklearn.compose import make_column_transformer\n",
    "from sklearn.dummy import DummyClassifier\n",
    "from sklearn.feature_extraction.text import TfidfVectorizer\n",
    "from sklearn.linear_model import SGDClassifier\n",
    "from sklearn.ensemble import RandomForestClassifier\n",
    "from sklearn.metrics import classification_report, confusion_matrix\n",
    "from sklearn.model_selection import GridSearchCV, RandomizedSearchCV\n",
    "from sklearn.naive_bayes import ComplementNB\n",
    "from sklearn.pipeline import Pipeline, make_pipeline\n",
    "from sklearn.preprocessing import MinMaxScaler, OneHotEncoder, PolynomialFeatures\n",
    "from tempfile import mkdtemp\n",
    "\n",
    "from src.helpers import PorterTokenizer"
   ]
  },
  {
   "cell_type": "code",
   "execution_count": 3,
   "metadata": {
    "pycharm": {
     "name": "#%%\n"
    }
   },
   "outputs": [],
   "source": [
    "with open('../data/cleaned/encoder.pickle', 'rb') as i:\n",
    "    encoder = pickle.load(i)"
   ]
  },
  {
   "cell_type": "code",
   "execution_count": 4,
   "metadata": {
    "pycharm": {
     "name": "#%%\n"
    }
   },
   "outputs": [
    {
     "data": {
      "text/html": [
       "<div>\n",
       "<style scoped>\n",
       "    .dataframe tbody tr th:only-of-type {\n",
       "        vertical-align: middle;\n",
       "    }\n",
       "\n",
       "    .dataframe tbody tr th {\n",
       "        vertical-align: top;\n",
       "    }\n",
       "\n",
       "    .dataframe thead th {\n",
       "        text-align: right;\n",
       "    }\n",
       "</style>\n",
       "<table border=\"1\" class=\"dataframe\">\n",
       "  <thead>\n",
       "    <tr style=\"text-align: right;\">\n",
       "      <th></th>\n",
       "      <th>country</th>\n",
       "      <th>description</th>\n",
       "      <th>points</th>\n",
       "      <th>price</th>\n",
       "      <th>taster_name</th>\n",
       "      <th>points_group</th>\n",
       "    </tr>\n",
       "  </thead>\n",
       "  <tbody>\n",
       "    <tr>\n",
       "      <th>0</th>\n",
       "      <td>Argentina</td>\n",
       "      <td>Slightly gritty, nutty aromas indicate that th...</td>\n",
       "      <td>84</td>\n",
       "      <td>18.0</td>\n",
       "      <td>Michael Schachner</td>\n",
       "      <td>1</td>\n",
       "    </tr>\n",
       "    <tr>\n",
       "      <th>1</th>\n",
       "      <td>Portugal</td>\n",
       "      <td>Merlot and Syrah are added to Portuguese varie...</td>\n",
       "      <td>87</td>\n",
       "      <td>12.0</td>\n",
       "      <td>Roger Voss</td>\n",
       "      <td>2</td>\n",
       "    </tr>\n",
       "    <tr>\n",
       "      <th>2</th>\n",
       "      <td>France</td>\n",
       "      <td>Ripe mirabelle fruit plays on the nose and lea...</td>\n",
       "      <td>92</td>\n",
       "      <td>35.0</td>\n",
       "      <td>Anne Krebiehl MW</td>\n",
       "      <td>3</td>\n",
       "    </tr>\n",
       "    <tr>\n",
       "      <th>3</th>\n",
       "      <td>Italy</td>\n",
       "      <td>This blend of 70% Sangiovese with Canaiolo, Co...</td>\n",
       "      <td>88</td>\n",
       "      <td>14.0</td>\n",
       "      <td>Kerin O’Keefe</td>\n",
       "      <td>2</td>\n",
       "    </tr>\n",
       "    <tr>\n",
       "      <th>4</th>\n",
       "      <td>Italy</td>\n",
       "      <td>It opens with aromas of forest floor, porcini ...</td>\n",
       "      <td>88</td>\n",
       "      <td>28.0</td>\n",
       "      <td>Kerin O’Keefe</td>\n",
       "      <td>2</td>\n",
       "    </tr>\n",
       "    <tr>\n",
       "      <th>...</th>\n",
       "      <td>...</td>\n",
       "      <td>...</td>\n",
       "      <td>...</td>\n",
       "      <td>...</td>\n",
       "      <td>...</td>\n",
       "      <td>...</td>\n",
       "    </tr>\n",
       "    <tr>\n",
       "      <th>69907</th>\n",
       "      <td>France</td>\n",
       "      <td>Light and only gently structured, this is a cr...</td>\n",
       "      <td>87</td>\n",
       "      <td>18.0</td>\n",
       "      <td>Roger Voss</td>\n",
       "      <td>2</td>\n",
       "    </tr>\n",
       "    <tr>\n",
       "      <th>69908</th>\n",
       "      <td>Germany</td>\n",
       "      <td>Veins of smoke and wax seep through fresh appl...</td>\n",
       "      <td>87</td>\n",
       "      <td>18.0</td>\n",
       "      <td>Anna Lee C. Iijima</td>\n",
       "      <td>2</td>\n",
       "    </tr>\n",
       "    <tr>\n",
       "      <th>69909</th>\n",
       "      <td>US</td>\n",
       "      <td>A combination of American and Hungarian oak le...</td>\n",
       "      <td>88</td>\n",
       "      <td>16.0</td>\n",
       "      <td>Anna Lee C. Iijima</td>\n",
       "      <td>2</td>\n",
       "    </tr>\n",
       "    <tr>\n",
       "      <th>69910</th>\n",
       "      <td>France</td>\n",
       "      <td>Based in the heart of the Haut-Médoc, this pro...</td>\n",
       "      <td>84</td>\n",
       "      <td>20.0</td>\n",
       "      <td>Roger Voss</td>\n",
       "      <td>1</td>\n",
       "    </tr>\n",
       "    <tr>\n",
       "      <th>69911</th>\n",
       "      <td>Spain</td>\n",
       "      <td>This Syrah is big, rubbery and heavily charred...</td>\n",
       "      <td>91</td>\n",
       "      <td>30.0</td>\n",
       "      <td>Michael Schachner</td>\n",
       "      <td>3</td>\n",
       "    </tr>\n",
       "  </tbody>\n",
       "</table>\n",
       "<p>69912 rows × 6 columns</p>\n",
       "</div>"
      ],
      "text/plain": [
       "         country                                        description  points  \\\n",
       "0      Argentina  Slightly gritty, nutty aromas indicate that th...      84   \n",
       "1       Portugal  Merlot and Syrah are added to Portuguese varie...      87   \n",
       "2         France  Ripe mirabelle fruit plays on the nose and lea...      92   \n",
       "3          Italy  This blend of 70% Sangiovese with Canaiolo, Co...      88   \n",
       "4          Italy  It opens with aromas of forest floor, porcini ...      88   \n",
       "...          ...                                                ...     ...   \n",
       "69907     France  Light and only gently structured, this is a cr...      87   \n",
       "69908    Germany  Veins of smoke and wax seep through fresh appl...      87   \n",
       "69909         US  A combination of American and Hungarian oak le...      88   \n",
       "69910     France  Based in the heart of the Haut-Médoc, this pro...      84   \n",
       "69911      Spain  This Syrah is big, rubbery and heavily charred...      91   \n",
       "\n",
       "       price         taster_name  points_group  \n",
       "0       18.0   Michael Schachner             1  \n",
       "1       12.0          Roger Voss             2  \n",
       "2       35.0    Anne Krebiehl MW             3  \n",
       "3       14.0       Kerin O’Keefe             2  \n",
       "4       28.0       Kerin O’Keefe             2  \n",
       "...      ...                 ...           ...  \n",
       "69907   18.0          Roger Voss             2  \n",
       "69908   18.0  Anna Lee C. Iijima             2  \n",
       "69909   16.0  Anna Lee C. Iijima             2  \n",
       "69910   20.0          Roger Voss             1  \n",
       "69911   30.0   Michael Schachner             3  \n",
       "\n",
       "[69912 rows x 6 columns]"
      ]
     },
     "execution_count": 4,
     "metadata": {},
     "output_type": "execute_result"
    }
   ],
   "source": [
    "train_df = pd.read_csv('../data/cleaned/train.csv')\n",
    "test_df = pd.read_csv('../data/cleaned/test.csv')\n",
    "train_df"
   ]
  },
  {
   "cell_type": "code",
   "execution_count": 5,
   "metadata": {
    "pycharm": {
     "name": "#%%\n"
    }
   },
   "outputs": [],
   "source": [
    "X_train_df = train_df[['price', 'country', 'taster_name', 'description']]\n",
    "y_train_clf = train_df['points_group']\n",
    "y_train_reg = train_df['points']\n",
    "\n",
    "X_test_df = test_df[['price', 'country', 'taster_name', 'description']]\n",
    "y_test_clf = test_df['points_group']\n",
    "y_test_reg = test_df['points']"
   ]
  },
  {
   "cell_type": "code",
   "execution_count": 6,
   "metadata": {
    "pycharm": {
     "name": "#%%\n"
    }
   },
   "outputs": [],
   "source": [
    "def make_custom_transformer():\n",
    "    return make_column_transformer(\n",
    "        (make_pipeline(\n",
    "            PolynomialFeatures(2, include_bias=False),\n",
    "            MinMaxScaler(feature_range=(0, 1)),\n",
    "        ), ['price']),\n",
    "        (OneHotEncoder(handle_unknown='ignore'), ['country', 'taster_name']),\n",
    "        (TfidfVectorizer(\n",
    "            tokenizer=PorterTokenizer(),\n",
    "            max_df=0.7,\n",
    "            min_df=7,\n",
    "            ngram_range=(1, 1),\n",
    "        ), 'description'),\n",
    "    )"
   ]
  },
  {
   "cell_type": "code",
   "execution_count": 7,
   "metadata": {
    "pycharm": {
     "name": "#%%\n"
    }
   },
   "outputs": [],
   "source": [
    "cachedir = mkdtemp()"
   ]
  },
  {
   "cell_type": "markdown",
   "metadata": {},
   "source": [
    "## Baseline"
   ]
  },
  {
   "cell_type": "code",
   "execution_count": 8,
   "metadata": {
    "pycharm": {
     "name": "#%%\n"
    }
   },
   "outputs": [
    {
     "name": "stdout",
     "output_type": "stream",
     "text": [
      "                                                                          precision    recall  f1-score   support\n",
      "\n",
      "80-82 Acceptable Can be employed in casual, less-critical circumstances.       0.01      0.01      0.01       337\n",
      "         83-86 Good Suitable for everyday consumption; often good value.       0.24      0.24      0.24      4021\n",
      "                     87-89 Very Good Often good value; well recommended.       0.37      0.37      0.37      6367\n",
      "                                     90-93 Excellent Highly recommended.       0.35      0.35      0.35      6061\n",
      "                                       94-97 Superb A great achievement.       0.06      0.05      0.05       847\n",
      "                                 98-100 Classic The pinnacle of quality.       0.00      0.00      0.00        20\n",
      "\n",
      "                                                                accuracy                           0.31     17653\n",
      "                                                               macro avg       0.17      0.17      0.17     17653\n",
      "                                                            weighted avg       0.31      0.31      0.31     17653\n",
      "\n"
     ]
    },
    {
     "name": "stderr",
     "output_type": "stream",
     "text": [
      "/home/nixwill/workspace/oznal/venv/lib/python3.7/site-packages/sklearn/dummy.py:132: FutureWarning: The default value of strategy will change from stratified to prior in 0.24.\n",
      "  \"stratified to prior in 0.24.\", FutureWarning)\n"
     ]
    }
   ],
   "source": [
    "dummy_clf = DummyClassifier()\n",
    "dummy_clf.fit(X_train_df, y_train_clf)\n",
    "y_pred = dummy_clf.predict(X_test_df)\n",
    "print(classification_report(y_test_clf, y_pred, target_names=encoder.classes_))"
   ]
  },
  {
   "cell_type": "code",
   "execution_count": 9,
   "metadata": {
    "pycharm": {
     "name": "#%%\n"
    }
   },
   "outputs": [
    {
     "data": {
      "text/plain": [
       "<matplotlib.axes._subplots.AxesSubplot at 0x7fdab959ba90>"
      ]
     },
     "execution_count": 9,
     "metadata": {},
     "output_type": "execute_result"
    },
    {
     "data": {
      "image/png": "[encoded data removed]",
      "text/plain": [
       "<Figure size 432x288 with 2 Axes>"
      ]
     },
     "metadata": {
      "needs_background": "light"
     },
     "output_type": "display_data"
    }
   ],
   "source": [
    "conf_matrix = confusion_matrix(y_test_clf, y_pred, labels=range(len(encoder.classes_)))\n",
    "sns.heatmap(conf_matrix, annot=True, fmt='d', square=True)"
   ]
  },
  {
   "cell_type": "markdown",
   "metadata": {},
   "source": [
    "## Complement Naive Bayes"
   ]
  },
  {
   "cell_type": "code",
   "execution_count": 10,
   "metadata": {
    "pycharm": {
     "name": "#%%\n"
    }
   },
   "outputs": [
    {
     "name": "stdout",
     "output_type": "stream",
     "text": [
      "Fitting 4 folds for each of 72 candidates, totalling 288 fits\n"
     ]
    },
    {
     "name": "stderr",
     "output_type": "stream",
     "text": [
      "[Parallel(n_jobs=-1)]: Using backend LokyBackend with 4 concurrent workers.\n",
      "[Parallel(n_jobs=-1)]: Done  24 tasks      | elapsed:  6.9min\n",
      "[Parallel(n_jobs=-1)]: Done 120 tasks      | elapsed: 31.1min\n",
      "[Parallel(n_jobs=-1)]: Done 280 tasks      | elapsed: 60.3min\n",
      "[Parallel(n_jobs=-1)]: Done 288 out of 288 | elapsed: 62.0min finished\n",
      "/home/nixwill/workspace/oznal/venv/lib/python3.7/site-packages/sklearn/pipeline.py:315: UserWarning: Persisting input arguments took 5.04s to run.\n",
      "If this happens often in your code, it can cause performance problems \n",
      "(results will be correct in all cases). \n",
      "The reason for this is probably some large input arguments for a wrapped\n",
      " function (e.g. large strings).\n",
      "THIS IS A JOBLIB ISSUE. If you can, kindly provide the joblib's team with an\n",
      " example so that they can fix the problem.\n",
      "  **fit_params_steps[name])\n"
     ]
    },
    {
     "data": {
      "text/plain": [
       "['../models/CNB-2020-05-16T04:15:00.886352.joblib']"
      ]
     },
     "execution_count": 10,
     "metadata": {},
     "output_type": "execute_result"
    }
   ],
   "source": [
    "pipe = Pipeline(\n",
    "    [\n",
    "        ('transformer', make_custom_transformer()),\n",
    "        ('estimator', ComplementNB()),\n",
    "    ],\n",
    "    memory=cachedir,\n",
    ")\n",
    "\n",
    "param_grid = dict(\n",
    "    transformer__tfidfvectorizer__max_df=[0.7, 1.0],\n",
    "    transformer__tfidfvectorizer__min_df=[7, 0.01, 1.0],\n",
    "    transformer__tfidfvectorizer__ngram_range=[(1, 1), (1, 2)],\n",
    "    estimator__alpha=[0.0, 0.5, 1.0],\n",
    "    estimator__norm=[True, False]\n",
    ")\n",
    "\n",
    "grid_search = GridSearchCV(\n",
    "    estimator=pipe,\n",
    "    param_grid=param_grid,\n",
    "    cv=4,\n",
    "    n_jobs=-1,\n",
    "    verbose=3,\n",
    "    scoring=['f1_weighted', 'balanced_accuracy'],\n",
    "    refit='f1_weighted',\n",
    ")\n",
    "\n",
    "grid_search = grid_search.fit(X_train_df, y_train_clf)\n",
    "dump(grid_search, f'../models/CNB-{datetime.now().isoformat()}.joblib')"
   ]
  },
  {
   "cell_type": "code",
   "execution_count": 11,
   "metadata": {
    "pycharm": {
     "name": "#%%\n"
    }
   },
   "outputs": [
    {
     "data": {
      "text/plain": [
       "{'estimator__alpha': 0.5,\n",
       " 'estimator__norm': True,\n",
       " 'transformer__tfidfvectorizer__max_df': 0.7,\n",
       " 'transformer__tfidfvectorizer__min_df': 7,\n",
       " 'transformer__tfidfvectorizer__ngram_range': (1, 2)}"
      ]
     },
     "execution_count": 11,
     "metadata": {},
     "output_type": "execute_result"
    }
   ],
   "source": [
    "grid_search.best_params_"
   ]
  },
  {
   "cell_type": "code",
   "execution_count": 12,
   "metadata": {
    "pycharm": {
     "name": "#%%\n"
    }
   },
   "outputs": [
    {
     "name": "stdout",
     "output_type": "stream",
     "text": [
      "                                                                          precision    recall  f1-score   support\n",
      "\n",
      "80-82 Acceptable Can be employed in casual, less-critical circumstances.       0.00      0.00      0.00       337\n",
      "         83-86 Good Suitable for everyday consumption; often good value.       0.50      0.65      0.57      4021\n",
      "                     87-89 Very Good Often good value; well recommended.       0.57      0.41      0.48      6367\n",
      "                                     90-93 Excellent Highly recommended.       0.59      0.75      0.66      6061\n",
      "                                       94-97 Superb A great achievement.       0.75      0.01      0.02       847\n",
      "                                 98-100 Classic The pinnacle of quality.       0.00      0.00      0.00        20\n",
      "\n",
      "                                                                accuracy                           0.56     17653\n",
      "                                                               macro avg       0.40      0.30      0.29     17653\n",
      "                                                            weighted avg       0.56      0.56      0.53     17653\n",
      "\n"
     ]
    },
    {
     "name": "stderr",
     "output_type": "stream",
     "text": [
      "/home/nixwill/workspace/oznal/venv/lib/python3.7/site-packages/sklearn/metrics/_classification.py:1272: UndefinedMetricWarning: Precision and F-score are ill-defined and being set to 0.0 in labels with no predicted samples. Use `zero_division` parameter to control this behavior.\n",
      "  _warn_prf(average, modifier, msg_start, len(result))\n"
     ]
    }
   ],
   "source": [
    "y_pred = grid_search.predict(X_test_df)\n",
    "print(classification_report(y_test_clf, y_pred, target_names=encoder.classes_))"
   ]
  },
  {
   "cell_type": "code",
   "execution_count": 13,
   "metadata": {
    "pycharm": {
     "name": "#%%\n"
    }
   },
   "outputs": [
    {
     "data": {
      "text/plain": [
       "<matplotlib.axes._subplots.AxesSubplot at 0x7fdab7f24590>"
      ]
     },
     "execution_count": 13,
     "metadata": {},
     "output_type": "execute_result"
    },
    {
     "data": {
      "image/png": "[encoded data removed]",
      "text/plain": [
       "<Figure size 432x288 with 2 Axes>"
      ]
     },
     "metadata": {
      "needs_background": "light"
     },
     "output_type": "display_data"
    }
   ],
   "source": [
    "conf_matrix = confusion_matrix(y_test_clf, y_pred, labels=range(len(encoder.classes_)))\n",
    "sns.heatmap(conf_matrix, annot=True, fmt='d', square=True)"
   ]
  },
  {
   "cell_type": "markdown",
   "metadata": {},
   "source": [
    "## Stochastic Gradient Descent"
   ]
  },
  {
   "cell_type": "code",
   "execution_count": 14,
   "metadata": {
    "pycharm": {
     "name": "#%%\n"
    }
   },
   "outputs": [
    {
     "name": "stdout",
     "output_type": "stream",
     "text": [
      "Fitting 4 folds for each of 144 candidates, totalling 576 fits\n"
     ]
    },
    {
     "name": "stderr",
     "output_type": "stream",
     "text": [
      "[Parallel(n_jobs=-1)]: Using backend LokyBackend with 4 concurrent workers.\n",
      "[Parallel(n_jobs=-1)]: Done  24 tasks      | elapsed:  2.8min\n",
      "[Parallel(n_jobs=-1)]: Done 120 tasks      | elapsed: 12.7min\n",
      "[Parallel(n_jobs=-1)]: Done 280 tasks      | elapsed: 27.9min\n",
      "[Parallel(n_jobs=-1)]: Done 504 tasks      | elapsed: 46.6min\n",
      "[Parallel(n_jobs=-1)]: Done 576 out of 576 | elapsed: 52.2min finished\n",
      "/home/nixwill/workspace/oznal/venv/lib/python3.7/site-packages/sklearn/pipeline.py:315: UserWarning: Persisting input arguments took 0.94s to run.\n",
      "If this happens often in your code, it can cause performance problems \n",
      "(results will be correct in all cases). \n",
      "The reason for this is probably some large input arguments for a wrapped\n",
      " function (e.g. large strings).\n",
      "THIS IS A JOBLIB ISSUE. If you can, kindly provide the joblib's team with an\n",
      " example so that they can fix the problem.\n",
      "  **fit_params_steps[name])\n"
     ]
    },
    {
     "data": {
      "text/plain": [
       "['../models/SGDC-2020-05-16T05:07:56.905167.joblib']"
      ]
     },
     "execution_count": 14,
     "metadata": {},
     "output_type": "execute_result"
    }
   ],
   "source": [
    "pipe = Pipeline(\n",
    "    [\n",
    "        ('transformer', make_custom_transformer()),\n",
    "        ('estimator', SGDClassifier(random_state=42)),\n",
    "    ],\n",
    "    memory=cachedir,\n",
    ")\n",
    "\n",
    "param_grid = dict(\n",
    "    transformer__tfidfvectorizer__max_df=[0.7],\n",
    "    transformer__tfidfvectorizer__min_df=[7, 0.01],\n",
    "    # transformer__tfidfvectorizer__ngram_range=[(1, 1), (1, 2)],\n",
    "    estimator__loss=['log', 'modified_huber'],\n",
    "    estimator__penalty=['l2', 'l1', 'elasticnet'],\n",
    "    estimator__alpha=[0.0001, 0.001, 0.05],\n",
    "    estimator__class_weight=['balanced', None],\n",
    "    estimator__average=[True, False],\n",
    ")\n",
    "\n",
    "grid_search = GridSearchCV(\n",
    "    estimator=pipe,\n",
    "    param_grid=param_grid,\n",
    "    cv=4,\n",
    "    n_jobs=-1,\n",
    "    verbose=3,\n",
    "    scoring=['f1_weighted', 'balanced_accuracy'],\n",
    "    refit='f1_weighted',\n",
    ")\n",
    "\n",
    "grid_search = grid_search.fit(X_train_df, y_train_clf)\n",
    "dump(grid_search, f'../models/SGDC-{datetime.now().isoformat()}.joblib')"
   ]
  },
  {
   "cell_type": "code",
   "execution_count": 15,
   "metadata": {
    "pycharm": {
     "name": "#%%\n"
    }
   },
   "outputs": [
    {
     "data": {
      "text/plain": [
       "{'estimator__alpha': 0.0001,\n",
       " 'estimator__average': True,\n",
       " 'estimator__class_weight': None,\n",
       " 'estimator__loss': 'modified_huber',\n",
       " 'estimator__penalty': 'l2',\n",
       " 'transformer__tfidfvectorizer__max_df': 0.7,\n",
       " 'transformer__tfidfvectorizer__min_df': 7}"
      ]
     },
     "execution_count": 15,
     "metadata": {},
     "output_type": "execute_result"
    }
   ],
   "source": [
    "grid_search.best_params_"
   ]
  },
  {
   "cell_type": "code",
   "execution_count": 16,
   "metadata": {
    "pycharm": {
     "name": "#%%\n"
    }
   },
   "outputs": [
    {
     "name": "stdout",
     "output_type": "stream",
     "text": [
      "                                                                          precision    recall  f1-score   support\n",
      "\n",
      "80-82 Acceptable Can be employed in casual, less-critical circumstances.       0.84      0.09      0.17       337\n",
      "         83-86 Good Suitable for everyday consumption; often good value.       0.65      0.66      0.65      4021\n",
      "                     87-89 Very Good Often good value; well recommended.       0.63      0.61      0.62      6367\n",
      "                                     90-93 Excellent Highly recommended.       0.67      0.81      0.73      6061\n",
      "                                       94-97 Superb A great achievement.       0.67      0.12      0.21       847\n",
      "                                 98-100 Classic The pinnacle of quality.       0.00      0.00      0.00        20\n",
      "\n",
      "                                                                accuracy                           0.65     17653\n",
      "                                                               macro avg       0.58      0.38      0.40     17653\n",
      "                                                            weighted avg       0.66      0.65      0.64     17653\n",
      "\n"
     ]
    }
   ],
   "source": [
    "y_pred = grid_search.predict(X_test_df)\n",
    "print(classification_report(y_test_clf, y_pred, target_names=encoder.classes_))"
   ]
  },
  {
   "cell_type": "code",
   "execution_count": 17,
   "metadata": {
    "pycharm": {
     "name": "#%%\n"
    }
   },
   "outputs": [
    {
     "data": {
      "text/plain": [
       "<matplotlib.axes._subplots.AxesSubplot at 0x7fdab7f05610>"
      ]
     },
     "execution_count": 17,
     "metadata": {},
     "output_type": "execute_result"
    },
    {
     "data": {
      "image/png": "[encoded data removed]",
      "text/plain": [
       "<Figure size 432x288 with 2 Axes>"
      ]
     },
     "metadata": {
      "needs_background": "light"
     },
     "output_type": "display_data"
    }
   ],
   "source": [
    "conf_matrix = confusion_matrix(y_test_clf, y_pred, labels=range(len(encoder.classes_)))\n",
    "sns.heatmap(conf_matrix, annot=True, fmt='d', square=True)"
   ]
  },
  {
   "cell_type": "markdown",
   "metadata": {},
   "source": [
    "## Random Forest"
   ]
  },
  {
   "cell_type": "code",
   "execution_count": 24,
   "metadata": {
    "pycharm": {
     "name": "#%%\n"
    }
   },
   "outputs": [
    {
     "name": "stdout",
     "output_type": "stream",
     "text": [
      "Fitting 2 folds for each of 10 candidates, totalling 20 fits\n"
     ]
    },
    {
     "name": "stderr",
     "output_type": "stream",
     "text": [
      "[Parallel(n_jobs=-1)]: Using backend LokyBackend with 4 concurrent workers.\n",
      "[Parallel(n_jobs=-1)]: Done  20 out of  20 | elapsed: 24.8min remaining:    0.0s\n",
      "[Parallel(n_jobs=-1)]: Done  20 out of  20 | elapsed: 24.8min finished\n"
     ]
    },
    {
     "data": {
      "text/plain": [
       "['../models/RF-2020-05-16T12:07:48.580678.joblib']"
      ]
     },
     "execution_count": 24,
     "metadata": {},
     "output_type": "execute_result"
    }
   ],
   "source": [
    "pipe = Pipeline(\n",
    "    [\n",
    "        ('transformer', make_custom_transformer()),\n",
    "        ('estimator', RandomForestClassifier(random_state=42)),\n",
    "    ],\n",
    "    memory=cachedir,\n",
    ")\n",
    "\n",
    "param_grid = dict(\n",
    "    estimator__n_estimators=[50, 100, 250, 500, 1000],\n",
    "    estimator__max_features=['sqrt', 'log2'],\n",
    "    estimator__max_depth=[100]\n",
    ")\n",
    "\n",
    "grid_search = GridSearchCV(\n",
    "    estimator=pipe,\n",
    "    param_grid=param_grid,\n",
    "    cv=2,\n",
    "    n_jobs=-1,\n",
    "    verbose=3,\n",
    "    scoring=['f1_weighted', 'balanced_accuracy'],\n",
    "    refit='f1_weighted',\n",
    ")\n",
    "\n",
    "grid_search = grid_search.fit(X_train_df, y_train_clf)\n",
    "dump(grid_search, f'../models/RF-{datetime.now().isoformat()}.joblib')"
   ]
  },
  {
   "cell_type": "code",
   "execution_count": 25,
   "metadata": {
    "pycharm": {
     "name": "#%%\n"
    }
   },
   "outputs": [
    {
     "data": {
      "text/plain": [
       "{'estimator__max_depth': 100,\n",
       " 'estimator__max_features': 'sqrt',\n",
       " 'estimator__n_estimators': 1000}"
      ]
     },
     "execution_count": 25,
     "metadata": {},
     "output_type": "execute_result"
    }
   ],
   "source": [
    "grid_search.best_params_"
   ]
  },
  {
   "cell_type": "code",
   "execution_count": 26,
   "metadata": {
    "pycharm": {
     "name": "#%%\n"
    }
   },
   "outputs": [
    {
     "name": "stdout",
     "output_type": "stream",
     "text": [
      "                                                                          precision    recall  f1-score   support\n",
      "\n",
      "80-82 Acceptable Can be employed in casual, less-critical circumstances.       0.00      0.00      0.00       337\n",
      "         83-86 Good Suitable for everyday consumption; often good value.       0.70      0.57      0.63      4021\n",
      "                     87-89 Very Good Often good value; well recommended.       0.60      0.68      0.64      6367\n",
      "                                     90-93 Excellent Highly recommended.       0.67      0.79      0.72      6061\n",
      "                                       94-97 Superb A great achievement.       0.94      0.02      0.03       847\n",
      "                                 98-100 Classic The pinnacle of quality.       0.00      0.00      0.00        20\n",
      "\n",
      "                                                                accuracy                           0.65     17653\n",
      "                                                               macro avg       0.48      0.34      0.34     17653\n",
      "                                                            weighted avg       0.65      0.65      0.62     17653\n",
      "\n"
     ]
    },
    {
     "name": "stderr",
     "output_type": "stream",
     "text": [
      "/home/nixwill/workspace/oznal/venv/lib/python3.7/site-packages/sklearn/metrics/_classification.py:1272: UndefinedMetricWarning: Precision and F-score are ill-defined and being set to 0.0 in labels with no predicted samples. Use `zero_division` parameter to control this behavior.\n",
      "  _warn_prf(average, modifier, msg_start, len(result))\n"
     ]
    }
   ],
   "source": [
    "y_pred = grid_search.predict(X_test_df)\n",
    "print(classification_report(y_test_clf, y_pred, target_names=encoder.classes_))"
   ]
  },
  {
   "cell_type": "code",
   "execution_count": 27,
   "metadata": {
    "pycharm": {
     "name": "#%%\n"
    }
   },
   "outputs": [
    {
     "data": {
      "text/plain": [
       "<matplotlib.axes._subplots.AxesSubplot at 0x7fdab40302d0>"
      ]
     },
     "execution_count": 27,
     "metadata": {},
     "output_type": "execute_result"
    },
    {
     "data": {
      "image/png": "[encoded data removed]",
      "text/plain": [
       "<Figure size 432x288 with 2 Axes>"
      ]
     },
     "metadata": {
      "needs_background": "light"
     },
     "output_type": "display_data"
    }
   ],
   "source": [
    "conf_matrix = confusion_matrix(y_test_clf, y_pred, labels=range(len(encoder.classes_)))\n",
    "sns.heatmap(conf_matrix, annot=True, fmt='d', square=True)"
   ]
  },
  {
   "cell_type": "code",
   "execution_count": 28,
   "metadata": {
    "pycharm": {
     "name": "#%%\n"
    }
   },
   "outputs": [],
   "source": [
    "rmtree(cachedir)\n"
   ]
  }
 ],
 "metadata": {
  "kernelspec": {
   "display_name": "Python 3",
   "language": "python",
   "name": "python3"
  },
  "language_info": {
   "codemirror_mode": {
    "name": "ipython",
    "version": 3
   },
   "file_extension": ".py",
   "mimetype": "text/x-python",
   "name": "python",
   "nbconvert_exporter": "python",
   "pygments_lexer": "ipython3",
   "version": "3.7.5"
  }
 },
 "nbformat": 4,
 "nbformat_minor": 1
}
