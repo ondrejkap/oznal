{
 "cells": [
  {
   "cell_type": "code",
   "execution_count": 1,
   "metadata": {
    "collapsed": true
   },
   "outputs": [],
   "source": [
    "from scipy.sparse import load_npz"
   ]
  },
  {
   "cell_type": "code",
   "execution_count": 2,
   "outputs": [
    {
     "data": {
      "text/plain": "(69932, 5863)"
     },
     "execution_count": 2,
     "metadata": {},
     "output_type": "execute_result"
    }
   ],
   "source": [
    "train = load_npz('../data/preprocessed/1-gram/train.npz')\n",
    "train.shape"
   ],
   "metadata": {
    "collapsed": false,
    "pycharm": {
     "name": "#%%\n"
    }
   }
  },
  {
   "cell_type": "markdown",
   "source": [
    "### Features\n",
    "\n",
    "- 0\n",
    "  - skupina bodového hodnotenia\n",
    "  - ordinálny atribút\n",
    "  - Z+\n",
    "- 1\n",
    "  - hodnotenie\n",
    "  - numericky spojitý atribút\n",
    "  - <0, 1>\n",
    "- 2\n",
    "  - cena\n",
    "  - numericky spojitý atribút\n",
    "  - <0, 1>\n",
    "- 3\n",
    "  - hodnotenie ^ 2\n",
    "  - numericky spojitý atribút\n",
    "  - <0, 1>\n",
    "- 4\n",
    "  - cena ^ 2\n",
    "  - numericky spojitý atribút\n",
    "  - <0, 1>\n",
    "- 5\n",
    "  - hodnotenie * cena\n",
    "  - numericky spojitý atribút\n",
    "  - <0, 1>\n",
    "- 6 - 46 (41 atribútov)\n",
    "  - krajina pôvodu\n",
    "  - nominálny atribút\n",
    "  - \\[0, 1]\n",
    "- 47 - 65 (19 atribútov)\n",
    "  - priateľ vína\n",
    "  - nominálny atribút\n",
    "  - \\[0, 1]\n",
    "- 66 - 5862\n",
    "  - recenzia\n",
    "  - tf-idf (spojitý)\n",
    "  - <0, 1>\n",
    "\n",
    "##### Disclaimer\n",
    "Niektoré atribúty sú tie isté alebo navzájom závislé, a preto je potrebné zvážiť ich výber a použitie.\n"
   ],
   "metadata": {
    "collapsed": false,
    "pycharm": {
     "name": "#%% md\n"
    }
   }
  }
 ],
 "metadata": {
  "kernelspec": {
   "display_name": "Python 3",
   "language": "python",
   "name": "python3"
  },
  "language_info": {
   "codemirror_mode": {
    "name": "ipython",
    "version": 2
   },
   "file_extension": ".py",
   "mimetype": "text/x-python",
   "name": "python",
   "nbconvert_exporter": "python",
   "pygments_lexer": "ipython2",
   "version": "2.7.6"
  }
 },
 "nbformat": 4,
 "nbformat_minor": 0
}