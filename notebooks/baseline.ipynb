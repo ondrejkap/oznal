{
 "cells": [
  {
   "cell_type": "code",
   "execution_count": 1,
   "metadata": {
    "collapsed": true
   },
   "outputs": [],
   "source": [
    "import numpy as np\n",
    "\n",
    "from scipy.sparse import load_npz\n",
    "from sklearn import metrics\n",
    "from sklearn.dummy import DummyRegressor, DummyClassifier\n",
    "from sklearn.linear_model import LinearRegression, LogisticRegression\n",
    "from sklearn.naive_bayes import MultinomialNB"
   ]
  },
  {
   "cell_type": "markdown",
   "source": [
    "### Features\n",
    "\n",
    "- 0\n",
    "  - skupina bodového hodnotenia\n",
    "  - ordinálny atribút\n",
    "  - Z+\n",
    "- 1\n",
    "  - hodnotenie\n",
    "  - numericky spojitý atribút\n",
    "  - <0, 1>\n",
    "- 2\n",
    "  - cena\n",
    "  - numericky spojitý atribút\n",
    "  - <0, 1>\n",
    "- 3\n",
    "  - hodnotenie ^ 2\n",
    "  - numericky spojitý atribút\n",
    "  - <0, 1>\n",
    "- 4\n",
    "  - cena ^ 2\n",
    "  - numericky spojitý atribút\n",
    "  - <0, 1>\n",
    "- 5\n",
    "  - hodnotenie * cena\n",
    "  - numericky spojitý atribút\n",
    "  - <0, 1>\n",
    "- 6 - 46 (41 atribútov)\n",
    "  - krajina pôvodu\n",
    "  - nominálny atribút\n",
    "  - \\[0, 1]\n",
    "- 47 - 65 (19 atribútov)\n",
    "  - priateľ vína\n",
    "  - nominálny atribút\n",
    "  - \\[0, 1]\n",
    "- 66 - n-1\n",
    "  - recenzia\n",
    "  - tf-idf (spojitý)\n",
    "  - <0, 1>\n",
    "\n",
    "##### Disclaimer\n",
    "Niektoré atribúty sú tie isté alebo navzájom závislé, a preto je potrebné zvážiť ich výber a použitie."
   ],
   "metadata": {
    "collapsed": false,
    "pycharm": {
     "name": "#%% md\n"
    }
   }
  },
  {
   "cell_type": "code",
   "execution_count": 2,
   "outputs": [],
   "source": [
    "def sparse_delete_columns(mat, indices):\n",
    "    indices = list(indices)\n",
    "    mask = np.ones(mat.shape[1], dtype=bool)\n",
    "    mask[indices] = False\n",
    "    return mat[:, mask]\n",
    "\n",
    "\n",
    "def select_for_points_regression(data):\n",
    "    cols = [0, 3, 5]  # points_group, points^2, points*price\n",
    "    data = sparse_delete_columns(data, cols)\n",
    "    y = data[:, 0].toarray().flatten() # points\n",
    "    X = data[:, 1:]\n",
    "    return X, y\n",
    "\n",
    "\n",
    "def select_for_points_classification(data):\n",
    "    cols = [1, 3, 5]  # points, points^2, points*price\n",
    "    data = sparse_delete_columns(data, cols)\n",
    "    y = data[:, 0].toarray().flatten()  # points_group\n",
    "    X = data[:, 1:]\n",
    "    return X, y\n",
    "\n",
    "\n",
    "def select_for_country_classification(data):\n",
    "    y = data[:, 6:47]  # country\n",
    "    # TODO revert one hot for y\n",
    "    cols = [0] + list(range(6, 47))  # points_group, country\n",
    "    X = sparse_delete_columns(data, cols)\n",
    "    return X, y"
   ],
   "metadata": {
    "collapsed": false,
    "pycharm": {
     "name": "#%%\n"
    }
   }
  },
  {
   "cell_type": "code",
   "execution_count": 3,
   "outputs": [],
   "source": [
    "def evaluate_reg(reg, X, y):\n",
    "\n",
    "    predicted = reg.predict(X)\n",
    "\n",
    "    print('Mean squared error:')\n",
    "    print(metrics.mean_squared_error(y, predicted))\n",
    "    print()\n",
    "\n",
    "    print('Mean absolute error:')\n",
    "    print(metrics.mean_absolute_error(y, predicted))\n",
    "    print()\n",
    "\n",
    "    print('R^2 score function:')\n",
    "    print(metrics.r2_score(y, predicted))\n",
    "    print()\n",
    "\n",
    "\n",
    "def evaluate_clf(clf, X, y, labels=None):\n",
    "\n",
    "    predicted = clf.predict(X)\n",
    "\n",
    "    print('Confusion matrix:')\n",
    "    print(metrics.confusion_matrix(y, predicted, labels=labels))\n",
    "    print()\n",
    "\n",
    "    print('Accuracy:')\n",
    "    print(metrics.accuracy_score(y, predicted))\n",
    "    print()\n",
    "\n",
    "    print('Precision per class:')\n",
    "    print(metrics.precision_score(y, predicted, average=None, labels=labels))\n",
    "    print()\n",
    "\n",
    "    print('Recall per class:')\n",
    "    print(metrics.recall_score(y, predicted, average=None, labels=labels))\n",
    "    print()\n",
    "\n",
    "    print('F1 per class:')\n",
    "    print(metrics.f1_score(y, predicted, average=None, labels=labels))\n",
    "    print()"
   ],
   "metadata": {
    "collapsed": false,
    "pycharm": {
     "name": "#%%\n"
    }
   }
  },
  {
   "cell_type": "code",
   "execution_count": 4,
   "outputs": [],
   "source": [
    "train = load_npz('../data/preprocessed/1-gram/train.npz')\n",
    "test = load_npz('../data/preprocessed/1-gram/test.npz')"
   ],
   "metadata": {
    "collapsed": false,
    "pycharm": {
     "name": "#%%\n"
    }
   }
  },
  {
   "cell_type": "code",
   "execution_count": 5,
   "outputs": [],
   "source": [
    "X_train, y_train = select_for_points_regression(train)\n",
    "X_test, y_test = select_for_points_regression(test)"
   ],
   "metadata": {
    "collapsed": false,
    "pycharm": {
     "name": "#%%\n"
    }
   }
  },
  {
   "cell_type": "code",
   "execution_count": 6,
   "outputs": [
    {
     "name": "stdout",
     "output_type": "stream",
     "text": [
      "Mean squared error:\n",
      "0.021965083977195234\n",
      "\n",
      "Mean absolute error:\n",
      "0.1215780835068947\n",
      "\n",
      "R^2 score function:\n",
      "-0.00012332037438933519\n",
      "\n"
     ]
    }
   ],
   "source": [
    "dummy_reg = DummyRegressor()\n",
    "dummy_reg.fit(X_train, y_train)\n",
    "evaluate_reg(dummy_reg, X_test, y_test)"
   ],
   "metadata": {
    "collapsed": false,
    "pycharm": {
     "name": "#%%\n"
    }
   }
  },
  {
   "cell_type": "code",
   "execution_count": 7,
   "outputs": [
    {
     "name": "stdout",
     "output_type": "stream",
     "text": [
      "Mean squared error:\n",
      "0.0038012523643798225\n",
      "\n",
      "Mean absolute error:\n",
      "0.047789441308890505\n",
      "\n",
      "R^2 score function:\n",
      "0.82691979961508\n",
      "\n"
     ]
    }
   ],
   "source": [
    "linear_reg = LinearRegression(n_jobs=-1)\n",
    "linear_reg.fit(X_train, y_train)\n",
    "evaluate_reg(linear_reg, X_test, y_test)"
   ],
   "metadata": {
    "collapsed": false,
    "pycharm": {
     "name": "#%%\n"
    }
   }
  },
  {
   "cell_type": "code",
   "execution_count": 8,
   "outputs": [],
   "source": [
    "X_train, y_train = select_for_points_classification(train)\n",
    "X_test, y_test = select_for_points_classification(test)"
   ],
   "metadata": {
    "collapsed": false,
    "pycharm": {
     "name": "#%%\n"
    }
   }
  },
  {
   "cell_type": "code",
   "execution_count": 9,
   "outputs": [
    {
     "name": "stdout",
     "output_type": "stream",
     "text": [
      "Confusion matrix:\n",
      "[[   6   78  106  104   13    0]\n",
      " [  71  928 1481 1437  180    0]\n",
      " [ 118 1459 2232 2172  254    4]\n",
      " [ 126 1410 2160 2092  289    1]\n",
      " [  15  165  269  266   44    0]\n",
      " [   0    2    0    1    1    0]]\n",
      "\n",
      "Accuracy:\n",
      "0.3032486845115534\n",
      "\n",
      "Precision per class:\n",
      "[0.01785714 0.22958931 0.35723431 0.34453228 0.05633803 0.        ]\n",
      "\n",
      "Recall per class:\n",
      "[0.01954397 0.2265072  0.35774964 0.34419217 0.05797101 0.        ]\n",
      "\n",
      "F1 per class:\n",
      "[0.01866252 0.22803784 0.35749179 0.34436214 0.05714286 0.        ]\n",
      "\n"
     ]
    },
    {
     "name": "stderr",
     "output_type": "stream",
     "text": [
      "/home/nixwill/workspace/oznal/venv/lib/python3.7/site-packages/sklearn/dummy.py:132: FutureWarning: The default value of strategy will change from stratified to prior in 0.24.\n",
      "  \"stratified to prior in 0.24.\", FutureWarning)\n"
     ]
    }
   ],
   "source": [
    "dummy_clf = DummyClassifier()\n",
    "dummy_clf.fit(X_train, y_train)\n",
    "evaluate_clf(dummy_clf, X_test, y_test)"
   ],
   "metadata": {
    "collapsed": false,
    "pycharm": {
     "name": "#%%\n"
    }
   }
  },
  {
   "cell_type": "code",
   "execution_count": 10,
   "outputs": [
    {
     "name": "stderr",
     "output_type": "stream",
     "text": [
      "[Parallel(n_jobs=-1)]: Using backend LokyBackend with 4 concurrent workers.\n",
      "[Parallel(n_jobs=-1)]: Done   1 out of   1 | elapsed:    6.2s finished\n",
      "/home/nixwill/workspace/oznal/venv/lib/python3.7/site-packages/sklearn/metrics/_classification.py:1272: UndefinedMetricWarning: Precision is ill-defined and being set to 0.0 in labels with no predicted samples. Use `zero_division` parameter to control this behavior.\n",
      "  _warn_prf(average, modifier, msg_start, len(result))\n"
     ]
    },
    {
     "name": "stdout",
     "output_type": "stream",
     "text": [
      "Confusion matrix:\n",
      "[[  72  223   10    2    0    0]\n",
      " [  24 2705 1273   93    2    0]\n",
      " [   4  834 4240 1157    4    0]\n",
      " [   0   52 1273 4651  102    0]\n",
      " [   0    0    3  577  179    0]\n",
      " [   0    0    0    1    3    0]]\n",
      "\n",
      "Accuracy:\n",
      "0.6775909402882636\n",
      "\n",
      "Precision per class:\n",
      "[0.72       0.70922916 0.62362112 0.71763617 0.61724138 0.        ]\n",
      "\n",
      "Recall per class:\n",
      "[0.23452769 0.6602392  0.67959609 0.76521882 0.23583663 0.        ]\n",
      "\n",
      "F1 per class:\n",
      "[0.35380835 0.68385792 0.6504065  0.74066407 0.34127741 0.        ]\n",
      "\n"
     ]
    }
   ],
   "source": [
    "linear_clf = LogisticRegression(random_state=42, verbose=1, n_jobs=-1)\n",
    "linear_clf.fit(X_train, y_train)\n",
    "evaluate_clf(linear_clf, X_test, y_test)"
   ],
   "metadata": {
    "collapsed": false,
    "pycharm": {
     "name": "#%%\n"
    }
   }
  },
  {
   "cell_type": "code",
   "execution_count": 11,
   "outputs": [
    {
     "name": "stdout",
     "output_type": "stream",
     "text": [
      "Confusion matrix:\n",
      "[[  40  226   26   15    0    0]\n",
      " [  19 2096 1490  492    0    0]\n",
      " [   2 1237 2986 2014    0    0]\n",
      " [   0  343 1251 4473   11    0]\n",
      " [   0    4   23  702   30    0]\n",
      " [   0    0    0    3    1    0]]\n",
      "\n",
      "Accuracy:\n",
      "0.5505033173186914\n",
      "\n",
      "Precision per class:\n",
      "[0.6557377  0.53661034 0.51696676 0.58098454 0.71428571 0.        ]\n",
      "\n",
      "Recall per class:\n",
      "[0.13029316 0.51159385 0.47860234 0.73593287 0.03952569 0.        ]\n",
      "\n",
      "F1 per class:\n",
      "[0.2173913  0.52380357 0.49704536 0.64934311 0.07490637 0.        ]\n",
      "\n"
     ]
    },
    {
     "name": "stderr",
     "output_type": "stream",
     "text": [
      "/home/nixwill/workspace/oznal/venv/lib/python3.7/site-packages/sklearn/metrics/_classification.py:1272: UndefinedMetricWarning: Precision is ill-defined and being set to 0.0 in labels with no predicted samples. Use `zero_division` parameter to control this behavior.\n",
      "  _warn_prf(average, modifier, msg_start, len(result))\n"
     ]
    }
   ],
   "source": [
    "nb_clf = MultinomialNB()\n",
    "nb_clf.fit(X_train, y_train)\n",
    "evaluate_clf(nb_clf, X_test, y_test)"
   ],
   "metadata": {
    "collapsed": false,
    "pycharm": {
     "name": "#%%\n"
    }
   }
  }
 ],
 "metadata": {
  "kernelspec": {
   "display_name": "Python 3",
   "language": "python",
   "name": "python3"
  },
  "language_info": {
   "codemirror_mode": {
    "name": "ipython",
    "version": 2
   },
   "file_extension": ".py",
   "mimetype": "text/x-python",
   "name": "python",
   "nbconvert_exporter": "python",
   "pygments_lexer": "ipython2",
   "version": "2.7.6"
  }
 },
 "nbformat": 4,
 "nbformat_minor": 0
}